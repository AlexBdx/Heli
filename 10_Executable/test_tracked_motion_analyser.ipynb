{
 "cells": [
  {
   "cell_type": "code",
   "execution_count": 2,
   "metadata": {},
   "outputs": [],
   "source": [
    "import numpy as np\n",
    "import collections"
   ]
  },
  {
   "cell_type": "code",
   "execution_count": 139,
   "metadata": {},
   "outputs": [],
   "source": [
    "data = collections.deque(maxlen=7)"
   ]
  },
  {
   "cell_type": "code",
   "execution_count": 140,
   "metadata": {},
   "outputs": [],
   "source": [
    "data.append((0, 0, 10, 10))\n",
    "data.append((2, 2, 10, 10))\n",
    "data.append((0, 0, 10, 10))\n",
    "data.append((2, 2, 10, 10))\n",
    "data.append((0, 0, 10, 10))\n",
    "data.append((2, 2, 10, 10))\n",
    "data.append((0, 0, 10, 10))\n",
    "data = np.array(data, dtype=np.float64)"
   ]
  },
  {
   "cell_type": "code",
   "execution_count": 141,
   "metadata": {},
   "outputs": [
    {
     "data": {
      "text/plain": [
       "array([[ 0.,  0., 10., 10.],\n",
       "       [ 2.,  2., 10., 10.],\n",
       "       [ 0.,  0., 10., 10.],\n",
       "       [ 2.,  2., 10., 10.],\n",
       "       [ 0.,  0., 10., 10.],\n",
       "       [ 2.,  2., 10., 10.],\n",
       "       [ 0.,  0., 10., 10.]])"
      ]
     },
     "execution_count": 141,
     "metadata": {},
     "output_type": "execute_result"
    }
   ],
   "source": [
    "data"
   ]
  },
  {
   "cell_type": "code",
   "execution_count": 142,
   "metadata": {},
   "outputs": [
    {
     "data": {
      "text/plain": [
       "array([[5., 5.],\n",
       "       [7., 7.],\n",
       "       [5., 5.],\n",
       "       [7., 7.],\n",
       "       [5., 5.],\n",
       "       [7., 7.],\n",
       "       [5., 5.]])"
      ]
     },
     "execution_count": 142,
     "metadata": {},
     "output_type": "execute_result"
    }
   ],
   "source": [
    "data[:, 0] += data[:, 2]/2\n",
    "data[:, 1] += data[:, 3]/2\n",
    "tracked_centers = data[:, :2]  # Isolate (xc, yc)\n",
    "tracked_centers"
   ]
  },
  {
   "cell_type": "code",
   "execution_count": 143,
   "metadata": {},
   "outputs": [
    {
     "data": {
      "text/plain": [
       "array([[ 2.,  2.],\n",
       "       [-2., -2.],\n",
       "       [ 2.,  2.],\n",
       "       [-2., -2.],\n",
       "       [ 2.,  2.],\n",
       "       [-2., -2.]])"
      ]
     },
     "execution_count": 143,
     "metadata": {},
     "output_type": "execute_result"
    }
   ],
   "source": [
    "overall_speed = np.diff(tracked_centers, axis=0)  # Get all the speed vectors\n",
    "overall_speed"
   ]
  },
  {
   "cell_type": "code",
   "execution_count": 144,
   "metadata": {},
   "outputs": [
    {
     "data": {
      "text/plain": [
       "array([0., 0.])"
      ]
     },
     "execution_count": 144,
     "metadata": {},
     "output_type": "execute_result"
    }
   ],
   "source": [
    "overall_speed = np.mean(overall_speed, axis=0)  # Calculate the mean speed vectors (last minus first basically)\n",
    "overall_speed"
   ]
  },
  {
   "cell_type": "code",
   "execution_count": 145,
   "metadata": {},
   "outputs": [
    {
     "data": {
      "text/plain": [
       "0.0"
      ]
     },
     "execution_count": 145,
     "metadata": {},
     "output_type": "execute_result"
    }
   ],
   "source": [
    "overall_speed = np.linalg.norm(overall_speed)  # Get the norm of that mean vector\n",
    "overall_speed"
   ]
  }
 ],
 "metadata": {
  "kernelspec": {
   "display_name": "Python 3",
   "language": "python",
   "name": "python3"
  },
  "language_info": {
   "codemirror_mode": {
    "name": "ipython",
    "version": 3
   },
   "file_extension": ".py",
   "mimetype": "text/x-python",
   "name": "python",
   "nbconvert_exporter": "python",
   "pygments_lexer": "ipython3",
   "version": "3.7.3"
  }
 },
 "nbformat": 4,
 "nbformat_minor": 2
}

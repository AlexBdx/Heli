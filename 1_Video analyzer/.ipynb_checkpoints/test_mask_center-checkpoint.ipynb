{
 "cells": [
  {
   "cell_type": "code",
   "execution_count": 1,
   "metadata": {},
   "outputs": [],
   "source": [
    "import video_tools as vt\n",
    "import numpy as np\n",
    "extractor = vt.extract.extractor()"
   ]
  },
  {
   "cell_type": "code",
   "execution_count": 2,
   "metadata": {},
   "outputs": [
    {
     "name": "stdout",
     "output_type": "stream",
     "text": [
      "0 0\n",
      "92 92\n",
      "92 92\n",
      "130 130\n"
     ]
    }
   ],
   "source": [
    "# Test the mask_center_shift function\n",
    "s = (224, 224)  # Size of the matrix, MUST be EVEN here\n",
    "f = (40, 40)  # Size of the \"1\"\n",
    "a = np.zeros(s, dtype=np.uint8)\n",
    "a[s[0]//2-f[0]//2:s[0]//2+f[0]//2, s[1]//2-f[0]//2:s[1]//2+f[0]//2] = 255\n",
    "#print(a)\n",
    "expected_dist = 0\n",
    "print(expected_dist, extractor.mask_center_shift(np.stack([a]*4, axis=2)))\n",
    "\n",
    "b = np.zeros(s, dtype=np.uint8)\n",
    "b[:f[0], s[1]//2-f[1]//2:s[1]//2+f[1]//2] = 255\n",
    "#print(b)\n",
    "expected_dist = s[0]//2 - f[0]//2\n",
    "print(expected_dist, extractor.mask_center_shift(np.stack([b]*4, axis=2)))\n",
    "\n",
    "c = np.zeros(s, dtype=np.uint8)\n",
    "c[s[0]//2-f[0]//2:s[0]//2+f[0]//2, :f[1]] = 255\n",
    "#print(c)\n",
    "expected_dist = s[1]//2 - f[1]//2\n",
    "print(expected_dist, extractor.mask_center_shift(np.stack([c]*4, axis=2)))\n",
    "\n",
    "d = np.zeros(s, dtype=np.uint8)\n",
    "d[:f[0], :f[1]] = 255\n",
    "#print(d)\n",
    "expected_dist = int(np.linalg.norm([s[0]//2 - f[0]//2, s[1]//2 - f[1]//2]))\n",
    "print(expected_dist, extractor.mask_center_shift(np.stack([d]*4, axis=2)))"
   ]
  },
  {
   "cell_type": "code",
   "execution_count": null,
   "metadata": {},
   "outputs": [],
   "source": []
  }
 ],
 "metadata": {
  "kernelspec": {
   "display_name": "Python 3",
   "language": "python",
   "name": "python3"
  },
  "language_info": {
   "codemirror_mode": {
    "name": "ipython",
    "version": 3
   },
   "file_extension": ".py",
   "mimetype": "text/x-python",
   "name": "python",
   "nbconvert_exporter": "python",
   "pygments_lexer": "ipython3",
   "version": "3.7.3"
  }
 },
 "nbformat": 4,
 "nbformat_minor": 2
}

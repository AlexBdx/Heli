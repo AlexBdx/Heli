{
 "cells": [
  {
   "cell_type": "code",
   "execution_count": 1,
   "metadata": {},
   "outputs": [],
   "source": [
    "%matplotlib inline\n",
    "%load_ext autoreload\n",
    "%autoreload 2"
   ]
  },
  {
   "cell_type": "code",
   "execution_count": 2,
   "metadata": {
    "scrolled": true
   },
   "outputs": [
    {
     "name": "stdout",
     "output_type": "stream",
     "text": [
      "[video_tools] /home/alex/Desktop/Helico/video_tools/__init__.py\n"
     ]
    },
    {
     "ename": "NameError",
     "evalue": "name 'line' is not defined",
     "output_type": "error",
     "traceback": [
      "\u001b[0;31m---------------------------------------------------------------------------\u001b[0m",
      "\u001b[0;31mNameError\u001b[0m                                 Traceback (most recent call last)",
      "\u001b[0;32m<ipython-input-2-d047c8a0ab25>\u001b[0m in \u001b[0;36m<module>\u001b[0;34m\u001b[0m\n\u001b[1;32m     40\u001b[0m \u001b[0;32mwith\u001b[0m \u001b[0mopen\u001b[0m\u001b[0;34m(\u001b[0m\u001b[0mPATH_VIDEO\u001b[0m\u001b[0;34m+\u001b[0m\u001b[0;34m'Info.txt'\u001b[0m\u001b[0;34m)\u001b[0m \u001b[0;32mas\u001b[0m \u001b[0mf\u001b[0m\u001b[0;34m:\u001b[0m\u001b[0;34m\u001b[0m\u001b[0;34m\u001b[0m\u001b[0m\n\u001b[1;32m     41\u001b[0m     \u001b[0;32mwhile\u001b[0m \u001b[0;32mTrue\u001b[0m\u001b[0;34m:\u001b[0m\u001b[0;34m\u001b[0m\u001b[0;34m\u001b[0m\u001b[0m\n\u001b[0;32m---> 42\u001b[0;31m         \u001b[0;32mif\u001b[0m \u001b[0;32mnot\u001b[0m \u001b[0mline\u001b[0m\u001b[0;34m:\u001b[0m\u001b[0;34m\u001b[0m\u001b[0;34m\u001b[0m\u001b[0m\n\u001b[0m\u001b[1;32m     43\u001b[0m             \u001b[0;32mbreak\u001b[0m\u001b[0;34m\u001b[0m\u001b[0;34m\u001b[0m\u001b[0m\n\u001b[1;32m     44\u001b[0m         \u001b[0;32melse\u001b[0m\u001b[0;34m:\u001b[0m\u001b[0;34m\u001b[0m\u001b[0;34m\u001b[0m\u001b[0m\n",
      "\u001b[0;31mNameError\u001b[0m: name 'line' is not defined"
     ]
    }
   ],
   "source": [
    "import glob\n",
    "import matplotlib.pyplot as plt\n",
    "import time\n",
    "import numpy as np\n",
    "import video_tools as vt\n",
    "import cv2  # Internal operations one in BGR\n",
    "import os\n",
    "import csv\n",
    "\n",
    "# Sanity check\n",
    "print(\"[video_tools]\", vt.__file__)\n",
    "ROOT = '/home/alex/Desktop/Helico/0_Database/RPi_import/'\n",
    "TS = '190622_201853'\n",
    "DATA = '_NN_crops/'\n",
    "PATH_VIDEO = ROOT+TS+'/'\n",
    "PATH_POSITIVE = PATH_VIDEO+TS+DATA+'nnSizeCrops/'\n",
    "images = sorted([img for img in glob.glob(PATH_POSITIVE+'*')])  # Glob glob is not deterministic\n",
    "\n",
    "PATH_NEGATIVE = PATH_VIDEO+TS+DATA+'Negatives/'\n",
    "negative_images = sorted([img for img in glob.glob(PATH_NEGATIVE+'*')])\n",
    "\n",
    "PATH_EXTRACTED = PATH_VIDEO+TS+DATA+'Extracted_helicopters/'\n",
    "PATH_AUGMENTED = PATH_VIDEO+TS+DATA+'Augmented_data/'\n",
    "\n",
    "EXT = '.png'  # Image saving format\n",
    "\n",
    "\n",
    "BLUR = 1\n",
    "CANNY_THRESH_1 = 10\n",
    "CANNY_THRESH_2 = 200\n",
    "MASK_DILATE_ITER = 4\n",
    "MASK_ERODE_ITER = 4\n",
    "MASK_COLOR = (0.0,0.0,1.0) # In BGR format\n",
    "list_max_area = []\n",
    "max_area = 60*10\n",
    "\n",
    "Y_labels = []\n",
    "\n",
    "info = {}\n",
    "with open(PATH_VIDEO+'Info.txt') as f:\n",
    "    while True:\n",
    "        line = f.readline()\n",
    "        if not line:\n",
    "            break\n",
    "        else:\n",
    "            info[line.split(':')[0]] = line.split(':')[1]\n",
    "print(info)\n",
    "\n",
    "extractor = vt.extract.extractor(max_area=max_area)"
   ]
  },
  {
   "cell_type": "markdown",
   "metadata": {},
   "source": [
    "timing = []\n",
    "for index, img in enumerate(images):\n",
    "    if index == 10:\n",
    "        img_array = plt.imread(img)\n",
    "        t0 = time.perf_counter()\n",
    "        counter = 0\n",
    "        for BLUR in range(3, 4, 2):\n",
    "            for MASK_DILATE_ITER in range(1, 7, 1):\n",
    "                MASK_ERODE_ITER = MASK_DILATE_ITER\n",
    "                extractor = extract_ROI.extract(BLUR, CANNY_THRESH_1, CANNY_THRESH_2, MASK_DILATE_ITER, MASK_ERODE_ITER, max_area)\n",
    "                image_name = str(BLUR) +'_'+ str(MASK_DILATE_ITER) +'_'+ str(MASK_ERODE_ITER)\n",
    "                list_max_area.append(extractor.extract_helico(img_array, output+image_name))\n",
    "                counter += 1\n",
    "        t1 = time.perf_counter()\n",
    "        timing.append(t1-t0)\n",
    "        break\n",
    "    \n",
    "print(\"Average time: {:.3f} per image ({:.3f} img/s)\".format(np.mean(timing), 1/np.mean(timing)))\n",
    "print(\"Max area: {}/{}\".format(max(list_max_area), 224*224))"
   ]
  },
  {
   "cell_type": "code",
   "execution_count": null,
   "metadata": {},
   "outputs": [],
   "source": [
    "timing = []\n",
    "for index, img in enumerate(images):\n",
    "    img_array = cv2.imread(img, cv2.IMREAD_UNCHANGED)\n",
    "    t0 = time.perf_counter()\n",
    "    extracted_area, extracted_image = extractor.extract_positive(img_array)\n",
    "    list_max_area.append(extracted_area)\n",
    "    if extracted_area:\n",
    "        #print(np.min(extracted_image), np.max(extracted_image), np.std(extracted_image), extracted_image.shape, extracted_image.dtype)\n",
    "        #plt.imsave(PATH_EXTRACTED+str(index)+EXT, extracted_image)\n",
    "        cv2.imwrite(PATH_EXTRACTED+str(index)+EXT, extracted_image)\n",
    "        temp = cv2.imread(PATH_EXTRACTED+str(index)+EXT, cv2.IMREAD_UNCHANGED)\n",
    "        #print(np.min(temp), np.max(temp), np.std(temp), temp.shape, temp.dtype)\n",
    "        #print()\n",
    "    t1 = time.perf_counter()\n",
    "    timing.append(t1-t0)\n",
    "    \n",
    "print(\"Average time: {:.3f} per image ({:.3f} img/s)\".format(np.mean(timing), 1/np.mean(timing)))\n",
    "#print(\"Max area: {}/{}\".format(max(list_max_area), 224*224))"
   ]
  },
  {
   "cell_type": "code",
   "execution_count": null,
   "metadata": {
    "scrolled": true
   },
   "outputs": [],
   "source": [
    "extracted_images = sorted([img for img in glob.glob(PATH_EXTRACTED+'*')])\n",
    "# Select a random positive image\n",
    "crop_nb = np.random.randint(len(extracted_images))\n",
    "img_array = cv2.imread(extracted_images[crop_nb], cv2.IMREAD_UNCHANGED)  # RGB 4 channels\n",
    "#print(\"Loaded extracted with range from {} to {}\".format(np.min(img_array), np.max(img_array)))\n",
    "#print(img_array.shape)"
   ]
  },
  {
   "cell_type": "code",
   "execution_count": null,
   "metadata": {},
   "outputs": [],
   "source": [
    "plt.figure()\n",
    "plt.imshow(cv2.cvtColor(img_array, cv2.COLOR_BGRA2RGBA))\n",
    "plt.axis('off')\n",
    "crop_name = os.path.split(extracted_images[crop_nb])[1][:-4]\n",
    "plt.title(\"Helico extracted from crop {}\".format(crop_name))"
   ]
  },
  {
   "cell_type": "code",
   "execution_count": null,
   "metadata": {},
   "outputs": [],
   "source": [
    "# Iterate through all the negative images and blend them with img_array selected above\n",
    "TOTAL_COUNT = 100  # Number of images to create\n",
    "HELICO_FREQUENCY = 0.5\n",
    "# Normal distributions\n",
    "ROTATIONS = (0, 5)\n",
    "SCALING = (1, 0.5)  # Truncated to be >= 1\n",
    "\n",
    "for count in range(TOTAL_COUNT):\n",
    "    random_neg_index = np.random.randint(len(negative_images))\n",
    "    neg_img_array = cv2.imread(negative_images[random_neg_index], cv2.IMREAD_UNCHANGED)\n",
    "    # Select a random positive image to blend with\n",
    "    random_crop_index = np.random.randint(len(extracted_images))\n",
    "    img_array = cv2.imread(extracted_images[random_crop_index], cv2.IMREAD_UNCHANGED)  # RGB 4 channels\n",
    "    \"\"\"\n",
    "    plt.figure()\n",
    "    plt.imshow(cv2.cvtColor(neg_img_array, cv2.COLOR_BGR2RGB))\n",
    "    plt.show()\n",
    "    \n",
    "    plt.figure()\n",
    "    plt.imshow(cv2.cvtColor(blended_image, cv2.COLOR_BGR2RGB))\n",
    "    plt.show()\n",
    "    \"\"\"\n",
    "    if np.random.rand() <= HELICO_FREQUENCY:\n",
    "        blended_image = extractor.blend_with_negative(neg_img_array, img_array, rotations=ROTATIONS, scaling=SCALING)\n",
    "        Y_labels.append(['Helicopter', info['Model']])\n",
    "    else:\n",
    "        blended_image = neg_img_array\n",
    "        Y_labels.append(['Negative', 'None'])\n",
    "    #blended_image = cv2.cvtColor(blended_image, cv2.COLOR_RGB2BGR)\n",
    "    cv2.imwrite(PATH_AUGMENTED+str(count)+EXT, blended_image)\n",
    "\n",
    "# Output all the labels to a file\n",
    "with open(PATH_AUGMENTED+'labels.txt', 'w') as f:\n",
    "    out = csv.writer(f)\n",
    "    for label in Y_labels:\n",
    "        out.writerow(label)"
   ]
  },
  {
   "cell_type": "code",
   "execution_count": null,
   "metadata": {},
   "outputs": [],
   "source": [
    "# Sanity check - read them all and display\n",
    "Y_read = []\n",
    "with open(PATH_AUGMENTED+'labels.txt', 'r') as f:\n",
    "    reader = csv.reader(f)\n",
    "    for line in reader:\n",
    "        Y_read.append(line)\n",
    "Y_read"
   ]
  },
  {
   "cell_type": "code",
   "execution_count": null,
   "metadata": {},
   "outputs": [],
   "source": [
    "max_bin = 224*224\n",
    "filtered_list = [v for v in list_max_area if 0 < v <max_bin]\n",
    "plt.figure(figsize=(10, 5))\n",
    "plt.hist(filtered_list, bins=100)\n",
    "plt.title(\"Extracted area - entries above max_area ignored\")\n",
    "plt.xlabel(\"Area extracted [px**2]\")\n",
    "plt.ylabel(\"Count [-]\")\n",
    "plt.show()"
   ]
  },
  {
   "cell_type": "code",
   "execution_count": null,
   "metadata": {},
   "outputs": [],
   "source": []
  },
  {
   "cell_type": "code",
   "execution_count": null,
   "metadata": {},
   "outputs": [],
   "source": []
  }
 ],
 "metadata": {
  "kernelspec": {
   "display_name": "Python 3",
   "language": "python",
   "name": "python3"
  },
  "language_info": {
   "codemirror_mode": {
    "name": "ipython",
    "version": 3
   },
   "file_extension": ".py",
   "mimetype": "text/x-python",
   "name": "python",
   "nbconvert_exporter": "python",
   "pygments_lexer": "ipython3",
   "version": "3.7.3"
  }
 },
 "nbformat": 4,
 "nbformat_minor": 2
}

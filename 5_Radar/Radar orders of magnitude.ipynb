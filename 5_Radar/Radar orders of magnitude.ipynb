{
 "cells": [
  {
   "cell_type": "code",
   "execution_count": 1,
   "metadata": {},
   "outputs": [],
   "source": [
    "import numpy as np\n",
    "c = 299792458.0  # m/s"
   ]
  },
  {
   "cell_type": "markdown",
   "metadata": {},
   "source": [
    "# Performance of FMCW radars"
   ]
  },
  {
   "cell_type": "markdown",
   "metadata": {},
   "source": [
    "## General considerations"
   ]
  },
  {
   "cell_type": "code",
   "execution_count": 23,
   "metadata": {},
   "outputs": [],
   "source": [
    "# Params\n",
    "params = {\n",
    "    'Tc': 1*10**-3,\n",
    "    'chirp_delay': 2*10**-3,\n",
    "    'N_frame': 8,\n",
    "    'f0': 5.75*10**9,\n",
    "    'B': 600*10**6,\n",
    "    'adc_sampling': 1*10**6   \n",
    "}\n",
    "def update_params(params):\n",
    "    params['lambda'] = c/params['f0']\n",
    "    params['S'] = params['B']/params['Tc']  # Hz/s\n",
    "    params['Tf'] = params['N_frame']*(params['Tc']+params['chirp_delay'])\n",
    "    return params\n",
    "params = update_params(params)"
   ]
  },
  {
   "cell_type": "code",
   "execution_count": 24,
   "metadata": {},
   "outputs": [],
   "source": [
    "power = {\n",
    "    'Pt': 10**((15)/10),\n",
    "    'G': 10**((13)/10),\n",
    "    'RCS': 1,\n",
    "    'Pmin': 10**((-118)/10),\n",
    "    'lambda': params['lambda']\n",
    "}"
   ]
  },
  {
   "cell_type": "code",
   "execution_count": 25,
   "metadata": {},
   "outputs": [],
   "source": [
    "usb = {\n",
    "    'decimation': 3,\n",
    "    'N_points_per_sweep': 1000,\n",
    "    'dtype_byte': 2,\n",
    "    'channels': 2\n",
    "}"
   ]
  },
  {
   "cell_type": "code",
   "execution_count": 26,
   "metadata": {},
   "outputs": [],
   "source": [
    "# Range metrics\n",
    "def range_rx_snr(d):\n",
    "    # Radar range equation\n",
    "    return ((d['Pt']*d['G']**2*d['lambda']**2*d['RCS'])/(d['Pmin']*(4*np.pi)**3))**0.25\n",
    "def range_adc_frequency(d):\n",
    "    # The ADC cannot process a freq > sampling rate/2\n",
    "    print(d['S'])\n",
    "    print(d['adc_sampling'])\n",
    "    return (c/(2*d['S']))*(d['adc_sampling'])\n",
    "def range_chirp_delay(d):\n",
    "    # Max range based on how long you wait between chirps\n",
    "    return c*d['chirp_delay']/2\n",
    "def range_resolution_if_freq(d):\n",
    "    # Size of a bin based on the freq that can be separated by the FFT\n",
    "    return c/(2*d['B'])\n",
    "def range_resolution_if_phase(d):\n",
    "    # Resolution based on phase measurements\n",
    "    return 1\n",
    "\n",
    "# Speed metrics\n",
    "def velocity_chirp_duration(d):\n",
    "    return d['lambda']/(4*d['Tc'])\n",
    "def velocity_resolution_frame(d):\n",
    "    return d['lambda']/(2*d['Tf'])\n",
    "\n",
    "# USB metrics\n",
    "def usb_tx_rate(d, p, divider=2**20):\n",
    "    return d['N_points_per_sweep']*d['dtype_byte']*d['channels']/(\n",
    "        d['decimation']*(p['Tc']+p['chirp_delay'])*divider)"
   ]
  },
  {
   "cell_type": "code",
   "execution_count": 27,
   "metadata": {},
   "outputs": [],
   "source": [
    "def display_metrics(power, params):\n",
    "    print(\"SPEED\")\n",
    "    print(\"Chirp duration max: {:.1f} m/s\".format(velocity_chirp_duration(params)))\n",
    "    print(\"Number of frames resolution: +/- {:.1f} m/s\".format(velocity_resolution_frame(params)))\n",
    "    print()\n",
    "    print(\"RANGE\")\n",
    "    print(\"SNR max: \\t{:.1f} m\".format(range_rx_snr(power)))\n",
    "    print(\"RT max: \\t{:.1f} m\".format(range_chirp_delay(params)))\n",
    "    print(\"ADC max: \\t{:.1f} m\".format(range_adc_frequency(params)))\n",
    "    print(\"Range resolution: +/- {:.1f} m\".format(range_resolution_if_freq(params)))\n",
    "    print()\n",
    "    print(\"USB\")\n",
    "    usb_text = \"USB transfer rate: {:.3f} Mb/s\".format(usb_tx_rate(usb, params))\n",
    "    if usb_tx_rate(usb, params) > 480*10**6/(8*2**20):\n",
    "        usb_text = '[WARNING] ' + usb_text\n",
    "    print(usb_text)"
   ]
  },
  {
   "cell_type": "code",
   "execution_count": 28,
   "metadata": {
    "scrolled": true
   },
   "outputs": [
    {
     "name": "stdout",
     "output_type": "stream",
     "text": [
      "SPEED\n",
      "Chirp duration max: 13.0 m/s\n",
      "Number of frames resolution: +/- 1.1 m/s\n",
      "\n",
      "RANGE\n",
      "SNR max: \t323.0 m\n",
      "RT max: \t299792.5 m\n",
      "600000000000.0\n",
      "1000000\n",
      "ADC max: \t249.8 m\n",
      "Range resolution: +/- 0.2 m\n",
      "\n",
      "USB\n",
      "USB transfer rate: 0.424 Mb/s\n"
     ]
    }
   ],
   "source": [
    "display_metrics(power, params)"
   ]
  },
  {
   "cell_type": "markdown",
   "metadata": {},
   "source": [
    "## FMCW3"
   ]
  },
  {
   "cell_type": "markdown",
   "metadata": {},
   "source": [
    "### Human size target"
   ]
  },
  {
   "cell_type": "markdown",
   "metadata": {},
   "source": [
    "### Small target"
   ]
  },
  {
   "cell_type": "code",
   "execution_count": 263,
   "metadata": {},
   "outputs": [],
   "source": [
    "params['Tc'] = 20*10**-6  # s\n",
    "params['chirp_delay'] = Tc\n",
    "params['adc_sampling'] = 2*10**6\n",
    "R = 6.35*10**-3\n",
    "R = 0.22*25.4*0.5*10**-3\n",
    "power['RCS'] = np.pi*R**2\n",
    "params = update_params(params)"
   ]
  },
  {
   "cell_type": "code",
   "execution_count": 264,
   "metadata": {},
   "outputs": [
    {
     "name": "stdout",
     "output_type": "stream",
     "text": [
      "SPEED\n",
      "Chirp duration max: 652.2 m/s\n",
      "Number of frames resolution: +/- 81.5 m/s\n",
      "\n",
      "RANGE\n",
      "SNR max: \t22.7 m\n",
      "RT max: \t3000.0 m\n",
      "ADC max: \t5.0 m\n",
      "Range resolution: +/- 0.2 m\n",
      "\n",
      "USB\n",
      "USB transfer rate: 31.789 Mb/s\n"
     ]
    }
   ],
   "source": [
    "display_metrics(power, params)"
   ]
  },
  {
   "cell_type": "code",
   "execution_count": null,
   "metadata": {},
   "outputs": [],
   "source": []
  }
 ],
 "metadata": {
  "kernelspec": {
   "display_name": "Python 3",
   "language": "python",
   "name": "python3"
  },
  "language_info": {
   "codemirror_mode": {
    "name": "ipython",
    "version": 3
   },
   "file_extension": ".py",
   "mimetype": "text/x-python",
   "name": "python",
   "nbconvert_exporter": "python",
   "pygments_lexer": "ipython3",
   "version": "3.7.3"
  }
 },
 "nbformat": 4,
 "nbformat_minor": 2
}
